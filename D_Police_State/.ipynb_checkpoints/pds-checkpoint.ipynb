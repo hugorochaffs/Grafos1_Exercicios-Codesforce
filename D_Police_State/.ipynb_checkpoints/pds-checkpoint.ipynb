{
 "cells": [
  {
   "cell_type": "code",
   "execution_count": 35,
   "id": "f034317e",
   "metadata": {},
   "outputs": [
    {
     "name": "stdout",
     "output_type": "stream",
     "text": [
      "9 2 3\n",
      "1 2\n",
      "[0, 1, 1, 0, 0, 0, 0, 0, 0, 0]\n",
      "[1000000000.0, 0, 0, 1000000000.0, 1000000000.0, 1000000000.0, 1000000000.0, 1000000000.0, 1000000000.0, 1000000000.0]\n"
     ]
    }
   ],
   "source": [
    "import numpy as np\n",
    "\n",
    "n,k,d = input().split()\n",
    "\n",
    "\n",
    "\n",
    "n = int(n)\n",
    "k = int(k)\n",
    "d = int(d)\n",
    "\n",
    "visita = [0]*(n+1)\n",
    "distancia = [1e9]*(n+1)\n",
    "\n",
    "pd = input().split()\n",
    "pdd = list(map(int,pd))\n",
    "pd = pdd\n",
    "\n",
    "for i in range(k):\n",
    "    visita[pd[i]] = 1\n",
    "    distancia[pd[i]] = 0\n",
    "    \n",
    "print (visita)\n",
    "print (distancia)\n",
    "\n",
    "\n",
    "\n",
    "        \n",
    "        \n"
   ]
  },
  {
   "cell_type": "code",
   "execution_count": null,
   "id": "b566cdea",
   "metadata": {},
   "outputs": [],
   "source": []
  },
  {
   "cell_type": "code",
   "execution_count": null,
   "id": "4741c505",
   "metadata": {},
   "outputs": [],
   "source": []
  },
  {
   "cell_type": "code",
   "execution_count": null,
   "id": "22bfd726",
   "metadata": {},
   "outputs": [],
   "source": []
  }
 ],
 "metadata": {
  "kernelspec": {
   "display_name": "Python 3 (ipykernel)",
   "language": "python",
   "name": "python3"
  },
  "language_info": {
   "codemirror_mode": {
    "name": "ipython",
    "version": 3
   },
   "file_extension": ".py",
   "mimetype": "text/x-python",
   "name": "python",
   "nbconvert_exporter": "python",
   "pygments_lexer": "ipython3",
   "version": "3.10.5"
  }
 },
 "nbformat": 4,
 "nbformat_minor": 5
}
